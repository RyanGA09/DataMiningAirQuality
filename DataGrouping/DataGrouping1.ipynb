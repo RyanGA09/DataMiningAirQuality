{
 "cells": [
  {
   "cell_type": "markdown",
   "id": "928023fb",
   "metadata": {},
   "source": [
    "# Data Grouping"
   ]
  },
  {
   "cell_type": "markdown",
   "id": "70ccc251",
   "metadata": {},
   "source": [
    "## 📘 Cell 1: Import dan Setup Folder"
   ]
  },
  {
   "cell_type": "code",
   "execution_count": 20,
   "id": "7eeb5820",
   "metadata": {},
   "outputs": [],
   "source": [
    "# 📦 Import library yang dibutuhkan\n",
    "import os\n",
    "import pandas as pd"
   ]
  },
  {
   "cell_type": "markdown",
   "id": "99b11f2f",
   "metadata": {},
   "source": [
    "## 📘 Cell 2: Definisikan Folder dan Inisialisasi"
   ]
  },
  {
   "cell_type": "code",
   "execution_count": 21,
   "id": "0149d20e",
   "metadata": {},
   "outputs": [],
   "source": [
    "# 📁 Path ke folder utama\n",
    "root_folder = \"DataGrouping1\"\n",
    "\n",
    "# 📂 Inisialisasi struktur data untuk semua tipe model\n",
    "all_data = {\n",
    "    \"ensemble\": [],\n",
    "    \"konvensional\": [],\n",
    "    \"ann\": [],\n",
    "    \"kfold\": []\n",
    "}"
   ]
  },
  {
   "cell_type": "markdown",
   "id": "4c82058c",
   "metadata": {},
   "source": [
    "## 📘 Cell 3: Membaca Semua CSV dan Normalisasi"
   ]
  },
  {
   "cell_type": "code",
   "execution_count": 22,
   "id": "4a194d72",
   "metadata": {},
   "outputs": [],
   "source": [
    "# 🔁 Membaca semua file CSV dalam subfolder dan normalisasi kolom\n",
    "for subdir in os.listdir(root_folder):\n",
    "    subfolder_path = os.path.join(root_folder, subdir)\n",
    "\n",
    "    if os.path.isdir(subfolder_path):\n",
    "        for file in os.listdir(subfolder_path):\n",
    "            file_path = os.path.join(subfolder_path, file)\n",
    "\n",
    "            if file.endswith(\".csv\"):\n",
    "                df = pd.read_csv(file_path)\n",
    "\n",
    "                # --- Untuk file KFold ---\n",
    "                if \"kfold\" in file.lower():\n",
    "                    # Ambil kolom penting dan rename agar konsisten\n",
    "                    df_kfold = df[[\n",
    "                        \"Percobaan\", \"Model\",\n",
    "                        \"Accuracy_Test\", \"Precision_Test\", \"Recall_Test\", \"F1-Score_Test\"\n",
    "                    ]].copy()\n",
    "\n",
    "                    df_kfold = df_kfold.rename(columns={\n",
    "                        \"Accuracy_Test\": \"Accuracy\",\n",
    "                        \"Precision_Test\": \"Precision\",\n",
    "                        \"Recall_Test\": \"Recall\",\n",
    "                        \"F1-Score_Test\": \"F1-Score\"\n",
    "                    })\n",
    "\n",
    "                    df_kfold[\"Tipe\"] = \"kfold\"\n",
    "                    df_kfold[\"Sumber\"] = subdir\n",
    "                    all_data[\"kfold\"].append(df_kfold)\n",
    "\n",
    "                # --- Untuk file ensemble ---\n",
    "                elif \"ensemble\" in file.lower():\n",
    "                    df[\"Tipe\"] = \"ensemble\"\n",
    "                    df[\"Sumber\"] = subdir\n",
    "                    all_data[\"ensemble\"].append(df)\n",
    "\n",
    "                # --- Untuk file ann ---\n",
    "                elif \"ann\" in file.lower():\n",
    "                    df[\"Tipe\"] = \"ann\"\n",
    "                    df[\"Sumber\"] = subdir\n",
    "                    all_data[\"ann\"].append(df)\n",
    "\n",
    "                # --- Untuk file model konvensional ---\n",
    "                elif \"konvensional\" in file.lower():\n",
    "                    df[\"Tipe\"] = \"konvensional\"\n",
    "                    df[\"Sumber\"] = subdir\n",
    "                    all_data[\"konvensional\"].append(df)"
   ]
  },
  {
   "cell_type": "markdown",
   "id": "d9825682",
   "metadata": {},
   "source": [
    "## 📘 Cell 4: Gabungkan Semua Data"
   ]
  },
  {
   "cell_type": "code",
   "execution_count": 23,
   "id": "4b7f42de",
   "metadata": {},
   "outputs": [],
   "source": [
    "# 📊 Gabungkan semua data menjadi satu DataFrame\n",
    "df_all = pd.concat(\n",
    "    all_data[\"ensemble\"] +\n",
    "    all_data[\"konvensional\"] +\n",
    "    all_data[\"ann\"] +\n",
    "    all_data[\"kfold\"],\n",
    "    ignore_index=True\n",
    ")\n",
    "\n",
    "# Pastikan kolom evaluasi dalam format numerik\n",
    "for metric in [\"Accuracy\", \"Precision\", \"Recall\", \"F1-Score\"]:\n",
    "    df_all[metric] = pd.to_numeric(df_all[metric], errors=\"coerce\")"
   ]
  },
  {
   "cell_type": "markdown",
   "id": "d1277054",
   "metadata": {},
   "source": [
    "## 📘 Cell 5: Fungsi untuk Ambil Model Terbaik/Terburuk"
   ]
  },
  {
   "cell_type": "code",
   "execution_count": null,
   "id": "880ad397",
   "metadata": {},
   "outputs": [],
   "source": [
    "# # 🎯 Fungsi untuk mengambil n model terbaik atau terburuk berdasarkan F1-Score\n",
    "# def get_top_bottom(df, tipe=None, top_n=10, worst=False):\n",
    "#     temp = df.copy()\n",
    "#     if tipe:\n",
    "#         temp = temp[temp[\"Tipe\"] == tipe]\n",
    "    \n",
    "#     # Urutkan berdasarkan F1-Score\n",
    "#     temp = temp.sort_values(\"F1-Score\", ascending=worst)\n",
    "#     return temp.head(top_n)\n",
    "\n",
    "# # 🎯 Fungsi untuk mengambil n model terbaik atau terburuk berdasarkan F1-Score\n",
    "# def get_top_bottom(df, tipe=None, top_n=10, worst=False):\n",
    "#     temp = df.copy()\n",
    "#     if tipe:\n",
    "#         temp = temp[temp[\"Tipe\"] == tipe]\n",
    "#     # 🔑 Urutan sorting multi-kriteria\n",
    "#     temp = temp.sort_values(\n",
    "#         [\"F1-Score\", \"Precision\", \"Recall\", \"Accuracy\"],\n",
    "#         ascending=[worst, worst, worst, worst]\n",
    "#     )\n",
    "#     return temp.head(top_n)\n",
    "\n",
    "# 🎯 Fungsi untuk mengambil n model terbaik atau terburuk berdasarkan F1-Score\n",
    "def get_top_bottom(df, tipe=None, top_n=10, worst=False):\n",
    "    temp = df.copy()\n",
    "    if tipe:\n",
    "        temp = temp[temp[\"Tipe\"] == tipe]\n",
    "    # 🔑 Urutan sorting multi-kriteria\n",
    "    temp = temp.sort_values(\n",
    "        [\"F1-Score\", \"Recall\", \"Precision\", \"Accuracy\"],\n",
    "        ascending=[worst, worst, worst, worst]\n",
    "    )\n",
    "    return temp.head(top_n)\n"
   ]
  },
  {
   "cell_type": "markdown",
   "id": "0c42468a",
   "metadata": {},
   "source": [
    "## 📘 Cell 6: Ekstrak Data Terbaik & Terburuk"
   ]
  },
  {
   "cell_type": "code",
   "execution_count": 25,
   "id": "ab1022ae",
   "metadata": {},
   "outputs": [],
   "source": [
    "# 🏆 Ekstrak hasil terbaik & terburuk sesuai task\n",
    "top_20_models = get_top_bottom(df_all, top_n=20)\n",
    "top_10_ensemble = get_top_bottom(df_all, tipe=\"ensemble\", top_n=10)\n",
    "top_10_ann = get_top_bottom(df_all, tipe=\"ann\", top_n=10)\n",
    "bottom_20_models = get_top_bottom(df_all, top_n=20, worst=True)\n",
    "bottom_10_ensemble = get_top_bottom(df_all, tipe=\"ensemble\", top_n=10, worst=True)"
   ]
  },
  {
   "cell_type": "markdown",
   "id": "872c6e83",
   "metadata": {},
   "source": [
    "## 📘 Cell 7: Simpan ke Excel"
   ]
  },
  {
   "cell_type": "code",
   "execution_count": null,
   "id": "ea0b5839",
   "metadata": {},
   "outputs": [
    {
     "name": "stdout",
     "output_type": "stream",
     "text": [
      "File presisi penuh tersimpan: ResultGrouping\\hasil_klasifikasi_model1.xlsx\n"
     ]
    }
   ],
   "source": [
    "# 💾 Simpan semua hasil ke file Excel\n",
    "output_dir = \"ResultGrouping\"\n",
    "os.makedirs(output_dir, exist_ok=True)  # Membuat folder jika belum ada\n",
    "\n",
    "output_file_full = os.path.join(output_dir, \"hasil_klasifikasi_model1_Ryan.xlsx\")\n",
    "\n",
    "with pd.ExcelWriter(output_file_full, engine='xlsxwriter') as writer:\n",
    "    top_20_models.to_excel(writer, sheet_name=\"20_Model_Terbaik\", index=False)\n",
    "    top_10_ensemble.to_excel(writer, sheet_name=\"10_Ensemble_Terbaik\", index=False)\n",
    "    top_10_ann.to_excel(writer, sheet_name=\"10_ANN_Terbaik\", index=False)\n",
    "    bottom_20_models.to_excel(writer, sheet_name=\"20_Model_Terburuk\", index=False)\n",
    "    bottom_10_ensemble.to_excel(writer, sheet_name=\"10_Ensemble_Terburuk\", index=False)\n",
    "\n",
    "    workbook = writer.book\n",
    "    format_full = workbook.add_format({'num_format': '0.000000000000000'})\n",
    "    for sheetname in writer.sheets:\n",
    "        worksheet = writer.sheets[sheetname]\n",
    "        worksheet.set_column('C:F', 25, format_full)\n",
    "\n",
    "print(f\"File presisi penuh tersimpan: {output_file_full}\")"
   ]
  },
  {
   "cell_type": "markdown",
   "id": "9c1c5de5",
   "metadata": {},
   "source": [
    "## 📘 Cell 8: Simpan Excel – Ringkas 3 Desimal"
   ]
  },
  {
   "cell_type": "code",
   "execution_count": null,
   "id": "5997e544",
   "metadata": {},
   "outputs": [
    {
     "name": "stdout",
     "output_type": "stream",
     "text": [
      "✅ Disimpan versi ringkas ke: ResultGrouping\\hasil_klasifikasi_model_ringkas1.xlsx\n"
     ]
    }
   ],
   "source": [
    "output_dir = \"ResultGrouping\"\n",
    "os.makedirs(output_dir, exist_ok=True)  # Membuat folder jika belum ada\n",
    "\n",
    "output_file_round = os.path.join(output_dir, \"hasil_klasifikasi_model_ringkas1_Ryan.xlsx\")\n",
    "\n",
    "def round_df(df):\n",
    "    df_rounded = df.copy()\n",
    "    for metric in [\"Accuracy\", \"Precision\", \"Recall\", \"F1-Score\"]:\n",
    "        df_rounded[metric] = df_rounded[metric].round(3)\n",
    "    return df_rounded\n",
    "\n",
    "with pd.ExcelWriter(output_file_round) as writer:\n",
    "    round_df(top_20_models).to_excel(writer, sheet_name=\"20_Model_Terbaik\", index=False)\n",
    "    round_df(top_10_ensemble).to_excel(writer, sheet_name=\"10_Ensemble_Terbaik\", index=False)\n",
    "    round_df(top_10_ann).to_excel(writer, sheet_name=\"10_ANN_Terbaik\", index=False)\n",
    "    round_df(bottom_20_models).to_excel(writer, sheet_name=\"20_Model_Terburuk\", index=False)\n",
    "    round_df(bottom_10_ensemble).to_excel(writer, sheet_name=\"10_Ensemble_Terburuk\", index=False)\n",
    "    \n",
    "    workbook = writer.book\n",
    "    format_3 = workbook.add_format({'num_format': '0.000'})\n",
    "    for sheetname in writer.sheets:\n",
    "        worksheet = writer.sheets[sheetname]\n",
    "        worksheet.set_column('C:F', 25, format_3)\n",
    "\n",
    "print(f\"✅ Disimpan versi ringkas ke: {output_file_round}\")\n"
   ]
  }
 ],
 "metadata": {
  "kernelspec": {
   "display_name": "Python 3",
   "language": "python",
   "name": "python3"
  },
  "language_info": {
   "codemirror_mode": {
    "name": "ipython",
    "version": 3
   },
   "file_extension": ".py",
   "mimetype": "text/x-python",
   "name": "python",
   "nbconvert_exporter": "python",
   "pygments_lexer": "ipython3",
   "version": "3.11.5"
  }
 },
 "nbformat": 4,
 "nbformat_minor": 5
}
