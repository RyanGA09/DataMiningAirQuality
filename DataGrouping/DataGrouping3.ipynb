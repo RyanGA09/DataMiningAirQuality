{
 "cells": [
  {
   "cell_type": "markdown",
   "id": "928023fb",
   "metadata": {},
   "source": [
    "# Data Grouping"
   ]
  },
  {
   "cell_type": "markdown",
   "id": "70ccc251",
   "metadata": {},
   "source": [
    "## 📘 Cell 1: Import dan Setup Folder"
   ]
  },
  {
   "cell_type": "code",
   "execution_count": 1,
   "id": "7eeb5820",
   "metadata": {},
   "outputs": [],
   "source": [
    "# 📦 Import library yang dibutuhkan\n",
    "import os\n",
    "import pandas as pd"
   ]
  },
  {
   "cell_type": "markdown",
   "id": "99b11f2f",
   "metadata": {},
   "source": [
    "## 📘 Cell 2: Definisikan Folder dan Inisialisasi"
   ]
  },
  {
   "cell_type": "code",
   "execution_count": 2,
   "id": "0149d20e",
   "metadata": {},
   "outputs": [],
   "source": [
    "# 📁 Path ke folder utama\n",
    "root_folder = \"DataGrouping3\"\n",
    "\n",
    "# 📂 Inisialisasi struktur data untuk semua tipe model\n",
    "all_data = {\n",
    "    \"ensemble\": [],\n",
    "    \"konvensional\": [],\n",
    "    \"ann\": [],\n",
    "    \"kfold\": []\n",
    "}"
   ]
  },
  {
   "cell_type": "markdown",
   "id": "4c82058c",
   "metadata": {},
   "source": [
    "## 📘 Cell 3: Membaca Semua CSV dan Normalisasi"
   ]
  },
  {
   "cell_type": "code",
   "execution_count": 3,
   "id": "4a194d72",
   "metadata": {},
   "outputs": [],
   "source": [
    "# 🔁 Membaca semua file CSV dalam subfolder dan normalisasi kolom\n",
    "for subdir in os.listdir(root_folder):\n",
    "    subfolder_path = os.path.join(root_folder, subdir)\n",
    "\n",
    "    if os.path.isdir(subfolder_path):\n",
    "        for file in os.listdir(subfolder_path):\n",
    "            file_path = os.path.join(subfolder_path, file)\n",
    "\n",
    "            if file.endswith(\".csv\"):\n",
    "                df = pd.read_csv(file_path)\n",
    "\n",
    "                # Tambahkan kolom FileName untuk SEMUA file\n",
    "                df[\"FileName\"] = file\n",
    "\n",
    "                # --- Untuk file KFold ---\n",
    "                if \"kfold\" in file.lower():\n",
    "                    df_kfold = df[[\n",
    "                        \"Percobaan\", \"Model\",\n",
    "                        \"Accuracy_Test\", \"Precision_Test\", \"Recall_Test\", \"F1-Score_Test\",\n",
    "                        \"FileName\"\n",
    "                    ]].copy()\n",
    "\n",
    "                    df_kfold = df_kfold.rename(columns={\n",
    "                        \"Accuracy_Test\": \"Accuracy\",\n",
    "                        \"Precision_Test\": \"Precision\",\n",
    "                        \"Recall_Test\": \"Recall\",\n",
    "                        \"F1-Score_Test\": \"F1-Score\"\n",
    "                    })\n",
    "\n",
    "                    df_kfold[\"Tipe\"] = \"kfold\"\n",
    "                    df_kfold[\"Sumber\"] = subdir\n",
    "                    all_data[\"kfold\"].append(df_kfold)\n",
    "\n",
    "                # --- Untuk file ensemble ---\n",
    "                elif \"ensemble\" in file.lower():\n",
    "                    df[\"Tipe\"] = \"ensemble\"\n",
    "                    df[\"Sumber\"] = subdir\n",
    "                    all_data[\"ensemble\"].append(df)\n",
    "\n",
    "                # --- Untuk file ann ---\n",
    "                elif \"ann\" in file.lower():\n",
    "                    df[\"Tipe\"] = \"ann\"\n",
    "                    df[\"Sumber\"] = subdir\n",
    "                    all_data[\"ann\"].append(df)\n",
    "\n",
    "                # --- Untuk file model konvensional ---\n",
    "                elif \"konvensional\" in file.lower():\n",
    "                    df[\"Tipe\"] = \"konvensional\"\n",
    "                    df[\"Sumber\"] = subdir\n",
    "                    all_data[\"konvensional\"].append(df)"
   ]
  },
  {
   "cell_type": "markdown",
   "id": "d9825682",
   "metadata": {},
   "source": [
    "## 📘 Cell 4: Gabungkan Semua Data"
   ]
  },
  {
   "cell_type": "code",
   "execution_count": 4,
   "id": "4b7f42de",
   "metadata": {},
   "outputs": [],
   "source": [
    "# 📊 Gabungkan semua data menjadi satu DataFrame\n",
    "df_all = pd.concat(\n",
    "    all_data[\"ensemble\"] +\n",
    "    all_data[\"konvensional\"] +\n",
    "    all_data[\"ann\"] +\n",
    "    all_data[\"kfold\"],\n",
    "    ignore_index=True\n",
    ")\n",
    "\n",
    "# Pastikan kolom evaluasi numerik\n",
    "for metric in [\"Accuracy\", \"Precision\", \"Recall\", \"F1-Score\"]:\n",
    "    df_all[metric] = pd.to_numeric(df_all[metric], errors=\"coerce\")"
   ]
  },
  {
   "cell_type": "markdown",
   "id": "d1277054",
   "metadata": {},
   "source": [
    "## 📘 Cell 5: Fungsi untuk Ambil Model Terbaik/Terburuk"
   ]
  },
  {
   "cell_type": "code",
   "execution_count": 5,
   "id": "880ad397",
   "metadata": {},
   "outputs": [],
   "source": [
    "# 🎯 Fungsi untuk mengambil n model terbaik atau terburuk berdasarkan F1-Score\n",
    "def get_top_bottom(df, tipe=None, top_n=10, worst=False):\n",
    "    temp = df.copy()\n",
    "    if tipe:\n",
    "        temp = temp[temp[\"Tipe\"] == tipe]\n",
    "    # 🔑 Urutan sorting multi-kriteria\n",
    "    temp = temp.sort_values(\n",
    "        [\"F1-Score\", \"Precision\", \"Recall\", \"Accuracy\"],\n",
    "        ascending=[worst, worst, worst, worst]\n",
    "    )\n",
    "    return temp.head(top_n)"
   ]
  },
  {
   "cell_type": "markdown",
   "id": "5bf64c44",
   "metadata": {},
   "source": [
    "## 📘 Cell 6: Subset Kategori Tambahan"
   ]
  },
  {
   "cell_type": "code",
   "execution_count": 6,
   "id": "f606a384",
   "metadata": {},
   "outputs": [],
   "source": [
    "# --- KFold khusus (results_kfold.csv di folder tertentu)\n",
    "kfold_folders = [\"DataSmote\", \"DataImbalance\", \"DataOverSamplingRandom\", \"DataUndersampling\"]\n",
    "df_kfold_special = df_all[\n",
    "    (df_all[\"Tipe\"] == \"kfold\") &\n",
    "    (df_all[\"Sumber\"].isin(kfold_folders)) &\n",
    "    (df_all[\"FileName\"].str.lower().eq(\"results_kfold.csv\"))\n",
    "]"
   ]
  },
  {
   "cell_type": "code",
   "execution_count": 7,
   "id": "2c186fcd",
   "metadata": {},
   "outputs": [],
   "source": [
    "# --- Balance (3 folder)\n",
    "balance_folders = [\"DataOverSamplingRandom\", \"DataSmote\", \"DataUndersampling\"]\n",
    "df_balance = df_all[df_all[\"Sumber\"].isin(balance_folders)]"
   ]
  },
  {
   "cell_type": "code",
   "execution_count": 8,
   "id": "59ed43fe",
   "metadata": {},
   "outputs": [],
   "source": [
    "# --- PCA (cari kata 'pca' di kolom Percobaan / percobaan)\n",
    "col_percobaan = [c for c in df_all.columns if c.lower() == \"percobaan\"]\n",
    "if col_percobaan:\n",
    "    pca_col = col_percobaan[0]\n",
    "    df_pca = df_all[df_all[pca_col].str.lower().str.contains(\"pca\", na=False)]\n",
    "else:\n",
    "    df_pca = pd.DataFrame()"
   ]
  },
  {
   "cell_type": "code",
   "execution_count": 9,
   "id": "adb47434",
   "metadata": {},
   "outputs": [
    {
     "name": "stderr",
     "output_type": "stream",
     "text": [
      "C:\\Users\\Ryan\\AppData\\Local\\Temp\\ipykernel_27028\\3703453277.py:4: UserWarning: This pattern is interpreted as a regular expression, and has match groups. To actually get the groups, use str.extract.\n",
      "  df_norm = df_all[df_all[pca_col].str.lower().str.contains(norm_keywords, na=False)]\n"
     ]
    }
   ],
   "source": [
    "# ✅ Normalisasi (normalisasi, normalization, atau pca)\n",
    "if col_percobaan:\n",
    "    norm_keywords = r\"(normalisasi|normalization|pca)\"\n",
    "    df_norm = df_all[df_all[pca_col].str.lower().str.contains(norm_keywords, na=False)]\n",
    "else:\n",
    "    df_norm = pd.DataFrame()"
   ]
  },
  {
   "cell_type": "markdown",
   "id": "0c42468a",
   "metadata": {},
   "source": [
    "## 📘 Cell 7: Ekstrak Data Terbaik & Terburuk"
   ]
  },
  {
   "cell_type": "code",
   "execution_count": 10,
   "id": "ab1022ae",
   "metadata": {},
   "outputs": [],
   "source": [
    "# 🏆 Ekstrak hasil terbaik & terburuk sesuai task\n",
    "top_20_models = get_top_bottom(df_all, top_n=20)\n",
    "top_10_ensemble = get_top_bottom(df_all, tipe=\"ensemble\", top_n=10)\n",
    "top_10_ann = get_top_bottom(df_all, tipe=\"ann\", top_n=10)\n",
    "bottom_10_ann = get_top_bottom(df_all, tipe=\"ann\", top_n=10, worst=True)   # ✅ Tambahan ANN Terburuk\n",
    "bottom_20_models = get_top_bottom(df_all, top_n=20, worst=True)\n",
    "bottom_10_ensemble = get_top_bottom(df_all, tipe=\"ensemble\", top_n=10, worst=True)\n",
    "\n",
    "# ✅ Tambahan baru\n",
    "top_10_kfold_special = get_top_bottom(df_kfold_special, top_n=10)\n",
    "bottom_10_kfold_special = get_top_bottom(df_kfold_special, top_n=10, worst=True)\n",
    "\n",
    "top_10_balance = get_top_bottom(df_balance, top_n=10)\n",
    "bottom_10_balance = get_top_bottom(df_balance, top_n=10, worst=True)\n",
    "\n",
    "top_10_pca = get_top_bottom(df_pca, top_n=10)\n",
    "bottom_10_pca = get_top_bottom(df_pca, top_n=10, worst=True)\n",
    "\n",
    "top_10_norm = get_top_bottom(df_norm, top_n=10)           # ✅ Normalisasi Terbaik\n",
    "bottom_10_norm = get_top_bottom(df_norm, top_n=10, worst=True)  # ✅ Normalisasi Terburuk"
   ]
  },
  {
   "cell_type": "markdown",
   "id": "872c6e83",
   "metadata": {},
   "source": [
    "## 📘 Cell 8: Simpan ke Excel"
   ]
  },
  {
   "cell_type": "code",
   "execution_count": 11,
   "id": "ea0b5839",
   "metadata": {},
   "outputs": [
    {
     "name": "stdout",
     "output_type": "stream",
     "text": [
      "File presisi penuh tersimpan: ResultGrouping\\hasil_klasifikasi_model3_Ryan.xlsx\n"
     ]
    }
   ],
   "source": [
    "# 💾 Simpan semua hasil ke file Excel\n",
    "output_dir = \"ResultGrouping\"\n",
    "os.makedirs(output_dir, exist_ok=True)  # Membuat folder jika belum ada\n",
    "\n",
    "output_file_full = os.path.join(output_dir, \"hasil_klasifikasi_model3_Ryan.xlsx\")\n",
    "\n",
    "with pd.ExcelWriter(output_file_full, engine='xlsxwriter') as writer:\n",
    "    # sheet lama\n",
    "    top_20_models.to_excel(writer, sheet_name=\"20_Model_Terbaik\", index=False)\n",
    "    bottom_20_models.to_excel(writer, sheet_name=\"20_Model_Terburuk\", index=False)\n",
    "    top_10_ensemble.to_excel(writer, sheet_name=\"10_Ensemble_Terbaik\", index=False)\n",
    "    bottom_10_ensemble.to_excel(writer, sheet_name=\"10_Ensemble_Terburuk\", index=False)\n",
    "    top_10_ann.to_excel(writer, sheet_name=\"10_ANN_Terbaik\", index=False)\n",
    "    bottom_10_ann.to_excel(writer, sheet_name=\"10_ANN_Terburuk\", index=False)\n",
    "    # sheet tambahan\n",
    "    top_10_kfold_special.to_excel(writer, sheet_name=\"10_KFold_Terbaik\", index=False)\n",
    "    bottom_10_kfold_special.to_excel(writer, sheet_name=\"10_KFold_Terburuk\", index=False)\n",
    "    top_10_balance.to_excel(writer, sheet_name=\"10_Balance_Terbaik\", index=False)\n",
    "    bottom_10_balance.to_excel(writer, sheet_name=\"10_Balance_Terburuk\", index=False)\n",
    "    top_10_pca.to_excel(writer, sheet_name=\"10_PCA_Terbaik\", index=False)\n",
    "    bottom_10_pca.to_excel(writer, sheet_name=\"10_PCA_Terburuk\", index=False)\n",
    "    top_10_norm.to_excel(writer, sheet_name=\"10_Normalisasi_Terbaik\", index=False)  # ✅ Normalisasi Terbaik\n",
    "    bottom_10_norm.to_excel(writer, sheet_name=\"10_Normalisasi_Terburuk\", index=False)  # ✅ Normalisasi Terburuk\n",
    "\n",
    "    workbook = writer.book\n",
    "    format_full = workbook.add_format({'num_format': '0.000000000000000'})\n",
    "    for sheetname in writer.sheets:\n",
    "        worksheet = writer.sheets[sheetname]\n",
    "        worksheet.set_column('C:H', 25, format_full)  # kolom metrik & FileName\n",
    "\n",
    "print(f\"File presisi penuh tersimpan: {output_file_full}\")"
   ]
  },
  {
   "cell_type": "markdown",
   "id": "9c1c5de5",
   "metadata": {},
   "source": [
    "## 📘 Cell 9: Simpan Excel – Ringkas 3 Desimal"
   ]
  },
  {
   "cell_type": "code",
   "execution_count": 12,
   "id": "5997e544",
   "metadata": {},
   "outputs": [
    {
     "name": "stdout",
     "output_type": "stream",
     "text": [
      "✅ Disimpan versi ringkas ke: ResultGrouping\\hasil_klasifikasi_model_ringkas3_Ryan.xlsx\n"
     ]
    }
   ],
   "source": [
    "output_dir = \"ResultGrouping\"\n",
    "os.makedirs(output_dir, exist_ok=True)  # Membuat folder jika belum ada\n",
    "\n",
    "output_file_round = os.path.join(output_dir, \"hasil_klasifikasi_model_ringkas3_Ryan.xlsx\")\n",
    "\n",
    "def round_df(df):\n",
    "    df_rounded = df.copy()\n",
    "    for metric in [\"Accuracy\", \"Precision\", \"Recall\", \"F1-Score\"]:\n",
    "        if metric in df_rounded.columns:\n",
    "            df_rounded[metric] = df_rounded[metric].round(3)\n",
    "    return df_rounded\n",
    "\n",
    "with pd.ExcelWriter(output_file_round, engine=\"xlsxwriter\") as writer:\n",
    "    # sheet lama\n",
    "    round_df(top_20_models).to_excel(writer, sheet_name=\"20_Model_Terbaik\", index=False)\n",
    "    round_df(bottom_20_models).to_excel(writer, sheet_name=\"20_Model_Terburuk\", index=False)\n",
    "    round_df(top_10_ensemble).to_excel(writer, sheet_name=\"10_Ensemble_Terbaik\", index=False)\n",
    "    round_df(bottom_10_ensemble).to_excel(writer, sheet_name=\"10_Ensemble_Terburuk\", index=False)\n",
    "    round_df(top_10_ann).to_excel(writer, sheet_name=\"10_ANN_Terbaik\", index=False)\n",
    "    round_df(bottom_10_ann).to_excel(writer, sheet_name=\"10_ANN_Terburuk\", index=False)\n",
    "    # sheet tambahan\n",
    "    round_df(top_10_kfold_special).to_excel(writer, sheet_name=\"10_KFold_Terbaik\", index=False)\n",
    "    round_df(bottom_10_kfold_special).to_excel(writer, sheet_name=\"10_KFold_Terburuk\", index=False)\n",
    "    round_df(top_10_balance).to_excel(writer, sheet_name=\"10_Balance_Terbaik\", index=False)\n",
    "    round_df(bottom_10_balance).to_excel(writer, sheet_name=\"10_Balance_Terburuk\", index=False)\n",
    "    round_df(top_10_pca).to_excel(writer, sheet_name=\"10_PCA_Terbaik\", index=False)\n",
    "    round_df(bottom_10_pca).to_excel(writer, sheet_name=\"10_PCA_Terburuk\", index=False)\n",
    "    round_df(top_10_norm).to_excel(writer, sheet_name=\"10_Normalisasi_Terbaik\", index=False)  # ✅ Normalisasi Terbaik\n",
    "    round_df(bottom_10_norm).to_excel(writer, sheet_name=\"10_Normalisasi_Terburuk\", index=False)  # ✅ Normalisasi Terburuk\n",
    "\n",
    "    workbook = writer.book\n",
    "    format_3 = workbook.add_format({'num_format': '0.000'})\n",
    "    for sheetname in writer.sheets:\n",
    "        worksheet = writer.sheets[sheetname]\n",
    "        worksheet.set_column('C:H', 25, format_3)\n",
    "\n",
    "print(f\"✅ Disimpan versi ringkas ke: {output_file_round}\")\n"
   ]
  }
 ],
 "metadata": {
  "kernelspec": {
   "display_name": "Python 3",
   "language": "python",
   "name": "python3"
  },
  "language_info": {
   "codemirror_mode": {
    "name": "ipython",
    "version": 3
   },
   "file_extension": ".py",
   "mimetype": "text/x-python",
   "name": "python",
   "nbconvert_exporter": "python",
   "pygments_lexer": "ipython3",
   "version": "3.11.5"
  }
 },
 "nbformat": 4,
 "nbformat_minor": 5
}
